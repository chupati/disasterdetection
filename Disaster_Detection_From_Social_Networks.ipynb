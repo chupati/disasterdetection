{
  "nbformat": 4,
  "nbformat_minor": 0,
  "metadata": {
    "colab": {
      "name": "Disaster Detection From Social Networks",
      "version": "0.3.2",
      "provenance": [],
      "toc_visible": true,
      "include_colab_link": true
    },
    "kernelspec": {
      "name": "python3",
      "display_name": "Python 3"
    }
  },
  "cells": [
    {
      "cell_type": "markdown",
      "metadata": {
        "id": "view-in-github",
        "colab_type": "text"
      },
      "source": [
        "<a href=\"https://colab.research.google.com/github/chupati/disasterdetection/blob/master/Disaster_Detection_From_Social_Networks.ipynb\" target=\"_parent\"><img src=\"https://colab.research.google.com/assets/colab-badge.svg\" alt=\"Open In Colab\"/></a>"
      ]
    },
    {
      "metadata": {
        "id": "TA_UEknozPQp",
        "colab_type": "text"
      },
      "cell_type": "markdown",
      "source": [
        "## Detecting disaster events from twitter\n",
        "\n",
        "This program uses Natural Laguage Processing (NLP) and Machine Learning to train two classification algorithms, Random Forest and SVM.  Upon completing training, the two algorithms will be able to predict if a twitter post is a disaster related event. "
      ]
    },
    {
      "metadata": {
        "id": "c55CmfzcygvR",
        "colab_type": "text"
      },
      "cell_type": "markdown",
      "source": [
        "**Import Libraries**"
      ]
    },
    {
      "metadata": {
        "id": "W9TW-x4aqC3s",
        "colab_type": "code",
        "colab": {}
      },
      "cell_type": "code",
      "source": [
        "import pandas as pd\n",
        "from nltk.tokenize import TweetTokenizer\n",
        "from sklearn.model_selection import train_test_split\n",
        "from google.colab import files\n",
        "import textwrap\n",
        "import numpy as np\n",
        "from sklearn.metrics import accuracy_score, roc_curve, roc_auc_score, f1_score, matthews_corrcoef"
      ],
      "execution_count": 0,
      "outputs": []
    },
    {
      "metadata": {
        "id": "9YWDsFNMycPY",
        "colab_type": "text"
      },
      "cell_type": "markdown",
      "source": [
        "**Import Data**\n",
        "\n",
        "Upload Comma Delimited File (.CSV). \n",
        "\n",
        "Download the file from the link to your computer and open back up using the \"Choose Files\" button.\n",
        "\n",
        "[Social Network Disaster Data (CSV)](https://raw.githubusercontent.com/chupati/disasterdetection/master/socialmedia-disaster-tweets-DFE-utf8.csv)\n"
      ]
    },
    {
      "metadata": {
        "id": "yLoM06JQuuBg",
        "colab_type": "code",
        "outputId": "16bdb14b-8a13-466e-f079-c303e3aed7dd",
        "colab": {
          "resources": {
            "http://localhost:8080/nbextensions/google.colab/files.js": {
              "data": "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",
              "ok": true,
              "headers": [
                [
                  "content-type",
                  "application/javascript"
                ]
              ],
              "status": 200,
              "status_text": ""
            }
          },
          "base_uri": "https://localhost:8080/",
          "height": 92
        }
      },
      "cell_type": "code",
      "source": [
        "\n",
        "\n",
        "uploaded = files.upload()\n",
        "\n",
        "for fn in uploaded.keys():\n",
        "  print('User uploaded file \"{name}\" with length {length} bytes'.format(\n",
        "      name=fn, length=len(uploaded[fn])))"
      ],
      "execution_count": 40,
      "outputs": [
        {
          "output_type": "display_data",
          "data": {
            "text/html": [
              "\n",
              "     <input type=\"file\" id=\"files-ec8841ed-c8ac-4e8c-b46b-0eba16de0cb3\" name=\"files[]\" multiple disabled />\n",
              "     <output id=\"result-ec8841ed-c8ac-4e8c-b46b-0eba16de0cb3\">\n",
              "      Upload widget is only available when the cell has been executed in the\n",
              "      current browser session. Please rerun this cell to enable.\n",
              "      </output>\n",
              "      <script src=\"/nbextensions/google.colab/files.js\"></script> "
            ],
            "text/plain": [
              "<IPython.core.display.HTML object>"
            ]
          },
          "metadata": {
            "tags": []
          }
        },
        {
          "output_type": "stream",
          "text": [
            "Saving socialmedia-disaster-tweets-DFE-utf8.csv to socialmedia-disaster-tweets-DFE-utf8 (1).csv\n",
            "User uploaded file \"socialmedia-disaster-tweets-DFE-utf8.csv\" with length 2213376 bytes\n"
          ],
          "name": "stdout"
        }
      ]
    },
    {
      "metadata": {
        "id": "DYl-SYG361gr",
        "colab_type": "text"
      },
      "cell_type": "markdown",
      "source": [
        "**Data Pre-processing**\n",
        "\n",
        "The following code checks that each line in the CSV file is in a utf8 format. Note that the Pandas library will fail to read non utf8 lines. "
      ]
    },
    {
      "metadata": {
        "id": "wUhIJNU-tWH9",
        "colab_type": "code",
        "outputId": "094246ad-72c7-4343-c1c9-46c4b7096238",
        "colab": {
          "base_uri": "https://localhost:8080/",
          "height": 52
        }
      },
      "cell_type": "code",
      "source": [
        "bad_lines = 0\n",
        "total_lines = 0\n",
        "f = open('socialmedia-disaster-tweets-DFE-utf8.csv', encoding='utf-8')\n",
        "for line in f:\n",
        "    try:\n",
        "        line.encode('utf-8')\n",
        "    except UnicodeDecodeError:\n",
        "        bad_lines += 1\n",
        "    total_lines += 1\n",
        "f.close()\n",
        "print(\"Total Lines read:\", total_lines, '\\n', \"Total Non UTF8 lines read:\", bad_lines)  #check for non utf8 formatted twitter messages (bad lines)"
      ],
      "execution_count": 41,
      "outputs": [
        {
          "output_type": "stream",
          "text": [
            "Total Lines read: 12267 \n",
            " Total Non UTF8 lines read: 0\n"
          ],
          "name": "stdout"
        }
      ]
    },
    {
      "metadata": {
        "id": "6Ymv7o5b76Dh",
        "colab_type": "text"
      },
      "cell_type": "markdown",
      "source": [
        "**Data Processing**\n",
        "\n",
        "Using the Pandas library, the following code loads the CSV data into a dataframe and prints out dataframe statistics. A pandas dataframe is a datatypes that holds data in cells and columns. \n",
        "\n",
        "\n",
        "NOTE: The columns listed here are not used as features (direct inputs to the ML model); However, \"choose_one:confidence\" is used to create a new feature for the ML model. "
      ]
    },
    {
      "metadata": {
        "id": "UI3aaT0dxLTL",
        "colab_type": "code",
        "outputId": "cb304a44-be78-4478-97cc-d5579c626dc0",
        "colab": {
          "base_uri": "https://localhost:8080/",
          "height": 297
        }
      },
      "cell_type": "code",
      "source": [
        "data = pd.read_csv('socialmedia-disaster-tweets-DFE-utf8.csv', delimiter=',')\n",
        "data.describe()"
      ],
      "execution_count": 42,
      "outputs": [
        {
          "output_type": "execute_result",
          "data": {
            "text/html": [
              "<div>\n",
              "<style scoped>\n",
              "    .dataframe tbody tr th:only-of-type {\n",
              "        vertical-align: middle;\n",
              "    }\n",
              "\n",
              "    .dataframe tbody tr th {\n",
              "        vertical-align: top;\n",
              "    }\n",
              "\n",
              "    .dataframe thead th {\n",
              "        text-align: right;\n",
              "    }\n",
              "</style>\n",
              "<table border=\"1\" class=\"dataframe\">\n",
              "  <thead>\n",
              "    <tr style=\"text-align: right;\">\n",
              "      <th></th>\n",
              "      <th>_unit_id</th>\n",
              "      <th>_trusted_judgments</th>\n",
              "      <th>choose_one:confidence</th>\n",
              "      <th>tweetid</th>\n",
              "      <th>userid</th>\n",
              "    </tr>\n",
              "  </thead>\n",
              "  <tbody>\n",
              "    <tr>\n",
              "      <th>count</th>\n",
              "      <td>1.087600e+04</td>\n",
              "      <td>10876.000000</td>\n",
              "      <td>10876.000000</td>\n",
              "      <td>1.087600e+04</td>\n",
              "      <td>1.078900e+04</td>\n",
              "    </tr>\n",
              "    <tr>\n",
              "      <th>mean</th>\n",
              "      <td>7.782503e+08</td>\n",
              "      <td>6.022527</td>\n",
              "      <td>0.842037</td>\n",
              "      <td>6.240055e+17</td>\n",
              "      <td>1.231422e+09</td>\n",
              "    </tr>\n",
              "    <tr>\n",
              "      <th>std</th>\n",
              "      <td>3.200574e+03</td>\n",
              "      <td>10.463834</td>\n",
              "      <td>0.168086</td>\n",
              "      <td>5.603918e+16</td>\n",
              "      <td>1.167599e+09</td>\n",
              "    </tr>\n",
              "    <tr>\n",
              "      <th>min</th>\n",
              "      <td>7.782438e+08</td>\n",
              "      <td>3.000000</td>\n",
              "      <td>0.334200</td>\n",
              "      <td>1.000000e+00</td>\n",
              "      <td>3.840000e+03</td>\n",
              "    </tr>\n",
              "    <tr>\n",
              "      <th>25%</th>\n",
              "      <td>7.782475e+08</td>\n",
              "      <td>5.000000</td>\n",
              "      <td>0.714900</td>\n",
              "      <td>6.290590e+17</td>\n",
              "      <td>1.870027e+08</td>\n",
              "    </tr>\n",
              "    <tr>\n",
              "      <th>50%</th>\n",
              "      <td>7.782503e+08</td>\n",
              "      <td>5.000000</td>\n",
              "      <td>0.804900</td>\n",
              "      <td>6.290920e+17</td>\n",
              "      <td>6.342173e+08</td>\n",
              "    </tr>\n",
              "    <tr>\n",
              "      <th>75%</th>\n",
              "      <td>7.782530e+08</td>\n",
              "      <td>5.000000</td>\n",
              "      <td>1.000000</td>\n",
              "      <td>6.292342e+17</td>\n",
              "      <td>2.416228e+09</td>\n",
              "    </tr>\n",
              "    <tr>\n",
              "      <th>max</th>\n",
              "      <td>7.782611e+08</td>\n",
              "      <td>157.000000</td>\n",
              "      <td>1.000000</td>\n",
              "      <td>6.293650e+17</td>\n",
              "      <td>3.404474e+09</td>\n",
              "    </tr>\n",
              "  </tbody>\n",
              "</table>\n",
              "</div>"
            ],
            "text/plain": [
              "           _unit_id  _trusted_judgments  choose_one:confidence       tweetid  \\\n",
              "count  1.087600e+04        10876.000000           10876.000000  1.087600e+04   \n",
              "mean   7.782503e+08            6.022527               0.842037  6.240055e+17   \n",
              "std    3.200574e+03           10.463834               0.168086  5.603918e+16   \n",
              "min    7.782438e+08            3.000000               0.334200  1.000000e+00   \n",
              "25%    7.782475e+08            5.000000               0.714900  6.290590e+17   \n",
              "50%    7.782503e+08            5.000000               0.804900  6.290920e+17   \n",
              "75%    7.782530e+08            5.000000               1.000000  6.292342e+17   \n",
              "max    7.782611e+08          157.000000               1.000000  6.293650e+17   \n",
              "\n",
              "             userid  \n",
              "count  1.078900e+04  \n",
              "mean   1.231422e+09  \n",
              "std    1.167599e+09  \n",
              "min    3.840000e+03  \n",
              "25%    1.870027e+08  \n",
              "50%    6.342173e+08  \n",
              "75%    2.416228e+09  \n",
              "max    3.404474e+09  "
            ]
          },
          "metadata": {
            "tags": []
          },
          "execution_count": 42
        }
      ]
    },
    {
      "metadata": {
        "id": "3GjafNN1-VFj",
        "colab_type": "text"
      },
      "cell_type": "markdown",
      "source": [
        "**Model Setup - Defining Labels for train and test phases**\n",
        "\n",
        "Label = 0    Non-Disaster\n",
        "\n",
        "Label = 1    Disaster\n",
        "\n",
        "The following code adds **target** column to Pandas datagram.  A target is the value we like the ML model to predict.  The target is defined with a 95% threshold confidence. "
      ]
    },
    {
      "metadata": {
        "id": "4fncyI_LxMdM",
        "colab_type": "code",
        "outputId": "54460ab3-07e0-4c27-c3db-9bd95eceacfc",
        "colab": {
          "base_uri": "https://localhost:8080/",
          "height": 297
        }
      },
      "cell_type": "code",
      "source": [
        "data['target'] = 0\n",
        "data.loc[(data['choose_one'] == 'Relevant') & (data['choose_one:confidence'] > 0.95), ['target']] = 1\n",
        "data.describe()"
      ],
      "execution_count": 43,
      "outputs": [
        {
          "output_type": "execute_result",
          "data": {
            "text/html": [
              "<div>\n",
              "<style scoped>\n",
              "    .dataframe tbody tr th:only-of-type {\n",
              "        vertical-align: middle;\n",
              "    }\n",
              "\n",
              "    .dataframe tbody tr th {\n",
              "        vertical-align: top;\n",
              "    }\n",
              "\n",
              "    .dataframe thead th {\n",
              "        text-align: right;\n",
              "    }\n",
              "</style>\n",
              "<table border=\"1\" class=\"dataframe\">\n",
              "  <thead>\n",
              "    <tr style=\"text-align: right;\">\n",
              "      <th></th>\n",
              "      <th>_unit_id</th>\n",
              "      <th>_trusted_judgments</th>\n",
              "      <th>choose_one:confidence</th>\n",
              "      <th>tweetid</th>\n",
              "      <th>userid</th>\n",
              "      <th>target</th>\n",
              "    </tr>\n",
              "  </thead>\n",
              "  <tbody>\n",
              "    <tr>\n",
              "      <th>count</th>\n",
              "      <td>1.087600e+04</td>\n",
              "      <td>10876.000000</td>\n",
              "      <td>10876.000000</td>\n",
              "      <td>1.087600e+04</td>\n",
              "      <td>1.078900e+04</td>\n",
              "      <td>10876.000000</td>\n",
              "    </tr>\n",
              "    <tr>\n",
              "      <th>mean</th>\n",
              "      <td>7.782503e+08</td>\n",
              "      <td>6.022527</td>\n",
              "      <td>0.842037</td>\n",
              "      <td>6.240055e+17</td>\n",
              "      <td>1.231422e+09</td>\n",
              "      <td>0.208533</td>\n",
              "    </tr>\n",
              "    <tr>\n",
              "      <th>std</th>\n",
              "      <td>3.200574e+03</td>\n",
              "      <td>10.463834</td>\n",
              "      <td>0.168086</td>\n",
              "      <td>5.603918e+16</td>\n",
              "      <td>1.167599e+09</td>\n",
              "      <td>0.406278</td>\n",
              "    </tr>\n",
              "    <tr>\n",
              "      <th>min</th>\n",
              "      <td>7.782438e+08</td>\n",
              "      <td>3.000000</td>\n",
              "      <td>0.334200</td>\n",
              "      <td>1.000000e+00</td>\n",
              "      <td>3.840000e+03</td>\n",
              "      <td>0.000000</td>\n",
              "    </tr>\n",
              "    <tr>\n",
              "      <th>25%</th>\n",
              "      <td>7.782475e+08</td>\n",
              "      <td>5.000000</td>\n",
              "      <td>0.714900</td>\n",
              "      <td>6.290590e+17</td>\n",
              "      <td>1.870027e+08</td>\n",
              "      <td>0.000000</td>\n",
              "    </tr>\n",
              "    <tr>\n",
              "      <th>50%</th>\n",
              "      <td>7.782503e+08</td>\n",
              "      <td>5.000000</td>\n",
              "      <td>0.804900</td>\n",
              "      <td>6.290920e+17</td>\n",
              "      <td>6.342173e+08</td>\n",
              "      <td>0.000000</td>\n",
              "    </tr>\n",
              "    <tr>\n",
              "      <th>75%</th>\n",
              "      <td>7.782530e+08</td>\n",
              "      <td>5.000000</td>\n",
              "      <td>1.000000</td>\n",
              "      <td>6.292342e+17</td>\n",
              "      <td>2.416228e+09</td>\n",
              "      <td>0.000000</td>\n",
              "    </tr>\n",
              "    <tr>\n",
              "      <th>max</th>\n",
              "      <td>7.782611e+08</td>\n",
              "      <td>157.000000</td>\n",
              "      <td>1.000000</td>\n",
              "      <td>6.293650e+17</td>\n",
              "      <td>3.404474e+09</td>\n",
              "      <td>1.000000</td>\n",
              "    </tr>\n",
              "  </tbody>\n",
              "</table>\n",
              "</div>"
            ],
            "text/plain": [
              "           _unit_id  _trusted_judgments  choose_one:confidence       tweetid  \\\n",
              "count  1.087600e+04        10876.000000           10876.000000  1.087600e+04   \n",
              "mean   7.782503e+08            6.022527               0.842037  6.240055e+17   \n",
              "std    3.200574e+03           10.463834               0.168086  5.603918e+16   \n",
              "min    7.782438e+08            3.000000               0.334200  1.000000e+00   \n",
              "25%    7.782475e+08            5.000000               0.714900  6.290590e+17   \n",
              "50%    7.782503e+08            5.000000               0.804900  6.290920e+17   \n",
              "75%    7.782530e+08            5.000000               1.000000  6.292342e+17   \n",
              "max    7.782611e+08          157.000000               1.000000  6.293650e+17   \n",
              "\n",
              "             userid        target  \n",
              "count  1.078900e+04  10876.000000  \n",
              "mean   1.231422e+09      0.208533  \n",
              "std    1.167599e+09      0.406278  \n",
              "min    3.840000e+03      0.000000  \n",
              "25%    1.870027e+08      0.000000  \n",
              "50%    6.342173e+08      0.000000  \n",
              "75%    2.416228e+09      0.000000  \n",
              "max    3.404474e+09      1.000000  "
            ]
          },
          "metadata": {
            "tags": []
          },
          "execution_count": 43
        }
      ]
    },
    {
      "metadata": {
        "id": "gloA6lmXB8VI",
        "colab_type": "text"
      },
      "cell_type": "markdown",
      "source": [
        "**Data Exploration**\n",
        "\n",
        "Get a count of the tweets labeled as disasters in the data.  Notice that the low count suggest tha disaster labeled tweets are a minority class. "
      ]
    },
    {
      "metadata": {
        "id": "ouXQIDh7xUT_",
        "colab_type": "code",
        "outputId": "0c6e0471-d556-4a43-e4db-d76d80193719",
        "colab": {
          "base_uri": "https://localhost:8080/",
          "height": 34
        }
      },
      "cell_type": "code",
      "source": [
        "disastercount = data['target'].sum() \n",
        "print(disastercount, ' out of ', data.shape[0] )"
      ],
      "execution_count": 44,
      "outputs": [
        {
          "output_type": "stream",
          "text": [
            "2268  out of  10876\n"
          ],
          "name": "stdout"
        }
      ]
    },
    {
      "metadata": {
        "id": "esN9KWxJDL57",
        "colab_type": "text"
      },
      "cell_type": "markdown",
      "source": [
        "**Sample Twitter messages** (TODO: NEED TO UPDATE CODE)\n",
        "\n",
        "The following code prints sample tweets that are labeled as disasters or not labeled at all (to be considered non-disasters). \n"
      ]
    },
    {
      "metadata": {
        "id": "vdv_pnT7xYEb",
        "colab_type": "code",
        "outputId": "cfb6d42d-4c36-43b8-90e2-c6f592d4c186",
        "colab": {
          "base_uri": "https://localhost:8080/",
          "height": 34
        }
      },
      "cell_type": "code",
      "source": [
        "y = data['target']  #Labels\n",
        "x = data['text']    \n",
        "for line in x:\n",
        "    print(line)\n",
        "    break"
      ],
      "execution_count": 45,
      "outputs": [
        {
          "output_type": "stream",
          "text": [
            "Just happened a terrible car crash\n"
          ],
          "name": "stdout"
        }
      ]
    },
    {
      "metadata": {
        "id": "XJAwyJTQEKmN",
        "colab_type": "text"
      },
      "cell_type": "markdown",
      "source": [
        "**Tokenizing (Breaking up twitter messages into words)**\n",
        "\n",
        "The Tweet Tokenizer libray is used here to create list of tokens (i.e. hastags, words, or mentions). \n"
      ]
    },
    {
      "metadata": {
        "id": "6v566BKBxjD3",
        "colab_type": "code",
        "outputId": "c6558588-040c-4b73-b9cd-d73ace809d2b",
        "colab": {
          "base_uri": "https://localhost:8080/",
          "height": 34
        }
      },
      "cell_type": "code",
      "source": [
        "document_frequencies = dict()\n",
        "term_index = dict()\n",
        "token_counts = dict()\n",
        "token_disasters = dict()\n",
        "tokenizer = TweetTokenizer()\n",
        "token_count = 0\n",
        "index = 0\n",
        "for index, row in data.iterrows():\n",
        "    tokens = tokenizer.tokenize(row['text'])\n",
        "    target = row['target']\n",
        "    document_terms = set()\n",
        "    for token in tokens:\n",
        "        if token.lower() in token_counts:\n",
        "            token_counts[token.lower()] += 1\n",
        "            if not(token.lower() in document_terms):\n",
        "              document_frequencies[token.lower()] += 1\n",
        "              document_terms.add(token.lower())\n",
        "        else:\n",
        "            token_counts[token.lower()] = 1\n",
        "            document_frequencies[token.lower()] = 1\n",
        "            document_terms.add(token.lower())\n",
        "        if token.lower() in token_disasters:\n",
        "            token_disasters[token.lower()] += target\n",
        "        else:\n",
        "            token_disasters[token.lower()] = target\n",
        "        token_count += 1\n",
        "\n",
        "print('Token Count: ', token_count)"
      ],
      "execution_count": 46,
      "outputs": [
        {
          "output_type": "stream",
          "text": [
            "Token Count:  183921\n"
          ],
          "name": "stdout"
        }
      ]
    },
    {
      "metadata": {
        "id": "wL9xPqZ-FUuR",
        "colab_type": "text"
      },
      "cell_type": "markdown",
      "source": [
        "**Splitting the dataset **\n",
        "\n",
        "The following code splits the dataset into an 80/20 split. 80% of the data is used for training and 20% is used for testing. "
      ]
    },
    {
      "metadata": {
        "id": "orhiz1BFx24v",
        "colab_type": "code",
        "outputId": "1de856a1-9e01-4bc6-d041-b531b5fedb4e",
        "colab": {
          "base_uri": "https://localhost:8080/",
          "height": 139
        }
      },
      "cell_type": "code",
      "source": [
        "X_train, X_test, y_train, y_test = train_test_split(x, y, test_size=0.2, random_state=42)\n",
        "\n",
        "print('Text Observations (X) and Disaster Labels (y) for TRAIN set')\n",
        "print('X_train: ', X_train.shape)\n",
        "print('y_train', y_train.shape, '\\n')\n",
        "\n",
        "print('Text Observations (X) and Disaster Labels (y) for TEST set')\n",
        "print('X_test:', X_test.shape)\n",
        "print('y_test', y_test.shape)"
      ],
      "execution_count": 47,
      "outputs": [
        {
          "output_type": "stream",
          "text": [
            "Text Observations (X) and Disaster Labels (y) for TRAIN set\n",
            "X_train:  (8700,)\n",
            "y_train (8700,) \n",
            "\n",
            "Text Observations (X) and Disaster Labels (y) for TEST set\n",
            "X_test: (2176,)\n",
            "y_test (2176,)\n"
          ],
          "name": "stdout"
        }
      ]
    },
    {
      "metadata": {
        "id": "MmypUTqSFzGL",
        "colab_type": "text"
      },
      "cell_type": "markdown",
      "source": [
        "**Generate Document Frequencies**\n",
        "\n",
        "A document is an NLP term for one unit of text. In our case, one tweet is represented as one document."
      ]
    },
    {
      "metadata": {
        "id": "AiRZB_4ux35y",
        "colab_type": "code",
        "outputId": "5997693e-1f9e-405c-f3b8-071ca28a4fd3",
        "colab": {
          "base_uri": "https://localhost:8080/",
          "height": 279
        }
      },
      "cell_type": "code",
      "source": [
        "token_counts = dict()\n",
        "x_train_disaster_probabilities = list()\n",
        "N = x.shape[0]\n",
        "print('N: ', N)\n",
        "p_y = np.sum(y)/N\n",
        "print('p(y) =', p_y)\n",
        "min_pmi = np.log2(1e-10)  # Because np.log2(0) == -inf\n",
        "neutral_pmi = np.log2(0.5)\n",
        "\n",
        "x_train_features = np.zeros((X_train.shape[0], 7))\n",
        "x_train_features[:, :] = neutral_pmi\n",
        "row_index = 0\n",
        "for row in X_train:\n",
        "    #print(row)\n",
        "    dedented_text = textwrap.dedent(row).strip()\n",
        "    #print(dedented_text)\n",
        "#     for width in [ 80]:\n",
        "#         #print ('%d Columns:\\n' % width)\n",
        "#         print ('Twitter message:', '\\\"%s\\\"' % textwrap.fill(dedented_text, width=width))\n",
        "\n",
        "    tokens = tokenizer.tokenize(row)\n",
        "    disaster_probabilities = list()\n",
        "    disaster_probabilities_round = list()\n",
        "    pmi_values = list()\n",
        "    for token in tokens:\n",
        "        p_x = document_frequencies[token.lower()]/N\n",
        "        p_x_y = token_disasters[token.lower()]/N\n",
        "        if p_x_y == 0:\n",
        "          pmi = min_pmi\n",
        "        else:\n",
        "          pmi = np.log2(p_x_y/(p_x * p_y))\n",
        "        pmi_values.append(pmi)\n",
        "        disaster_probabilities.append(p_x_y)\n",
        "        disaster_probabilities_round.append(round(p_x_y, 2))\n",
        "#     print(x_train_features[row_index, 0:3])\n",
        "    x_train_features[row_index, 0:min(3, len(pmi_values))] = np.array(sorted(pmi_values, reverse=True)[0:min(3, len(pmi_values))])\n",
        "    x_train_features[row_index, 3:(3 + min(3, len(pmi_values)))] = np.array(sorted(pmi_values)[0:min(3, len(pmi_values))])\n",
        "    x_train_features[row_index, 6] = np.mean(pmi_values)\n",
        "\n",
        "    \n",
        "#     print('\\n','\\n', 'Disaster Text Probabilities')\n",
        "#     print( disaster_probabilities_round)\n",
        "#     print(x_train_features[row_index])\n",
        "    row_index += 1\n",
        "x_train_features"
      ],
      "execution_count": 48,
      "outputs": [
        {
          "output_type": "stream",
          "text": [
            "N:  10876\n",
            "p(y) = 0.20853254873115115\n"
          ],
          "name": "stdout"
        },
        {
          "output_type": "execute_result",
          "data": {
            "text/plain": [
              "array([[  0.20717534,   0.20717534,   0.16300411, ..., -33.21928095,\n",
              "        -33.21928095,  -6.28697595],\n",
              "       [  0.21532221,   0.20717534,  -0.11627799, ..., -33.21928095,\n",
              "        -33.21928095, -13.5187032 ],\n",
              "       [  0.74118174,  -0.18275659,  -0.22186173, ..., -33.21928095,\n",
              "        -33.21928095, -16.73298342],\n",
              "       ...,\n",
              "       [  1.87463239,   1.20821625,   0.65679345, ..., -33.21928095,\n",
              "        -33.21928095, -11.71079809],\n",
              "       [  0.67669301,   0.46835193,   0.20717534, ..., -33.21928095,\n",
              "         -2.08787705,  -4.74152397],\n",
              "       [  2.26165551,   2.26165551,   1.81419653, ...,  -1.43878421,\n",
              "         -0.36637571,   0.65453906]])"
            ]
          },
          "metadata": {
            "tags": []
          },
          "execution_count": 48
        }
      ]
    },
    {
      "metadata": {
        "id": "dk7lnWGZOkI_",
        "colab_type": "code",
        "colab": {
          "base_uri": "https://localhost:8080/",
          "height": 34
        },
        "outputId": "6535cd99-10cd-43b3-ce21-f6abbcb6cbe2"
      },
      "cell_type": "code",
      "source": [
        "from sklearn.svm import SVC\n",
        "clf = SVC(gamma='auto', probability=True)\n",
        "clf.fit(x_train_features, y_train)\n",
        "clf.score(x_train_features, y_train)"
      ],
      "execution_count": 49,
      "outputs": [
        {
          "output_type": "execute_result",
          "data": {
            "text/plain": [
              "0.9919540229885058"
            ]
          },
          "metadata": {
            "tags": []
          },
          "execution_count": 49
        }
      ]
    },
    {
      "metadata": {
        "id": "_MUzRCPaA0h7",
        "colab_type": "code",
        "colab": {
          "base_uri": "https://localhost:8080/",
          "height": 244
        },
        "outputId": "56a98072-f807-423d-9e0b-e8d890303d16"
      },
      "cell_type": "code",
      "source": [
        "x_test_features = np.zeros((X_test.shape[0], 7))\n",
        "x_test_features[:, :] = neutral_pmi\n",
        "row_index = 0\n",
        "for row in X_test:\n",
        "    #print(row)\n",
        "    dedented_text = textwrap.dedent(row).strip()\n",
        "    #print(dedented_text)\n",
        "#     for width in [ 80]:\n",
        "#         #print ('%d Columns:\\n' % width)\n",
        "#         print ('Twitter message:', '\\\"%s\\\"' % textwrap.fill(dedented_text, width=width))\n",
        "\n",
        "    tokens = tokenizer.tokenize(row)\n",
        "    disaster_probabilities = list()\n",
        "    disaster_probabilities_round = list()\n",
        "    pmi_values = list()\n",
        "    for token in tokens:\n",
        "        p_x = document_frequencies[token.lower()]/N\n",
        "        p_x_y = token_disasters[token.lower()]/N\n",
        "        if p_x_y == 0:\n",
        "          pmi = min_pmi\n",
        "        else:\n",
        "          pmi = np.log2(p_x_y/(p_x * p_y))\n",
        "        pmi_values.append(pmi)\n",
        "        disaster_probabilities.append(p_x_y)\n",
        "        disaster_probabilities_round.append(round(p_x_y, 2))\n",
        "#     print(x_train_features[row_index, 0:3])\n",
        "    x_test_features[row_index, 0:min(3, len(pmi_values))] = np.array(sorted(pmi_values, reverse=True)[0:min(3, len(pmi_values))])\n",
        "    x_test_features[row_index, 3:(3 + min(3, len(pmi_values)))] = np.array(sorted(pmi_values)[0:min(3, len(pmi_values))])\n",
        "    x_test_features[row_index, 6] = np.mean(pmi_values)\n",
        "\n",
        "    \n",
        "#     print('\\n','\\n', 'Disaster Text Probabilities')\n",
        "#     print( disaster_probabilities_round)\n",
        "#     print(x_train_features[row_index])\n",
        "    row_index += 1\n",
        "x_test_features"
      ],
      "execution_count": 50,
      "outputs": [
        {
          "output_type": "execute_result",
          "data": {
            "text/plain": [
              "array([[  0.88968673,   0.77929282,   0.67669301, ..., -33.21928095,\n",
              "        -33.21928095, -10.15099345],\n",
              "       [  1.43158051,   0.53272724,   0.37291226, ..., -33.21928095,\n",
              "        -33.21928095, -20.80623939],\n",
              "       [  1.26165551,   1.08609151,   0.68073984, ..., -33.21928095,\n",
              "        -33.21928095,  -8.60014701],\n",
              "       ...,\n",
              "       [  1.20821625,   0.63052283,   0.30865299, ..., -33.21928095,\n",
              "        -33.21928095, -13.20307508],\n",
              "       [  1.41777471,  -0.06027258,  -0.07742504, ..., -33.21928095,\n",
              "         -2.34320655,  -7.1622824 ],\n",
              "       [  1.08609151,   0.57762888,   0.34517887, ..., -33.21928095,\n",
              "        -33.21928095, -12.64297438]])"
            ]
          },
          "metadata": {
            "tags": []
          },
          "execution_count": 50
        }
      ]
    },
    {
      "metadata": {
        "id": "R6UOdOWUBwQr",
        "colab_type": "code",
        "colab": {
          "base_uri": "https://localhost:8080/",
          "height": 34
        },
        "outputId": "3a276485-58fd-4403-d19e-4e271dfc9073"
      },
      "cell_type": "code",
      "source": [
        "clf.score(x_test_features, y_test)"
      ],
      "execution_count": 51,
      "outputs": [
        {
          "output_type": "execute_result",
          "data": {
            "text/plain": [
              "0.9898897058823529"
            ]
          },
          "metadata": {
            "tags": []
          },
          "execution_count": 51
        }
      ]
    },
    {
      "metadata": {
        "id": "xv0xh52oB_nW",
        "colab_type": "code",
        "colab": {
          "base_uri": "https://localhost:8080/",
          "height": 69
        },
        "outputId": "28b9cf01-4bad-433b-f218-6c2d05bdb8a5"
      },
      "cell_type": "code",
      "source": [
        "y_preds = clf.predict(x_test_features)\n",
        "print('Accuracy: ', accuracy_score(y_test, y_preds))\n",
        "print('Matthew\\'s correlation coefficient: ', matthews_corrcoef(y_test, y_preds))\n",
        "print('F1 Score: ', f1_score(y_test, y_preds))"
      ],
      "execution_count": 52,
      "outputs": [
        {
          "output_type": "stream",
          "text": [
            "Accuracy:  0.9898897058823529\n",
            "Matthew's correlation coefficient:  0.9706413141100229\n",
            "F1 Score:  0.977035490605428\n"
          ],
          "name": "stdout"
        }
      ]
    },
    {
      "metadata": {
        "id": "6W3f1ICLbV6C",
        "colab_type": "code",
        "colab": {
          "base_uri": "https://localhost:8080/",
          "height": 34
        },
        "outputId": "91f62216-0dfa-41b6-cfdd-cff126768f48"
      },
      "cell_type": "code",
      "source": [
        "scores = clf.predict_proba(x_test_features)\n",
        "fpr, tpr, thresholds = roc_curve(y_test, scores[:, 1])\n",
        "auc = roc_auc_score(y_test, scores[:, 1])\n",
        "print('AUC: ', auc)"
      ],
      "execution_count": 57,
      "outputs": [
        {
          "output_type": "stream",
          "text": [
            "AUC:  0.9967399981158923\n"
          ],
          "name": "stdout"
        }
      ]
    },
    {
      "metadata": {
        "id": "we9oqfQTdQOJ",
        "colab_type": "code",
        "colab": {
          "base_uri": "https://localhost:8080/",
          "height": 269
        },
        "outputId": "d1cdac09-130b-4081-a247-596e5926af74"
      },
      "cell_type": "code",
      "source": [
        "import matplotlib.pyplot as plt\n",
        "plt.plot(fpr, tpr)\n",
        "\n",
        "plt.show()"
      ],
      "execution_count": 59,
      "outputs": [
        {
          "output_type": "display_data",
          "data": {
            "image/png": "[encoded data removed]",
            "text/plain": [
              "<Figure size 432x288 with 1 Axes>"
            ]
          },
          "metadata": {
            "tags": []
          }
        }
      ]
    },
    {
      "metadata": {
        "id": "wvwa-R_zdxU-",
        "colab_type": "text"
      },
      "cell_type": "markdown",
      "source": [
        "**Deployment**\n",
        "\n",
        "* Save the model\n",
        "* Save the method for creating features - refactor into a class\n",
        "\n",
        "\n"
      ]
    },
    {
      "metadata": {
        "id": "XmMekYnKdurH",
        "colab_type": "code",
        "colab": {
          "base_uri": "https://localhost:8080/",
          "height": 34
        },
        "outputId": "d972cb23-3695-4e81-9ad2-bae1781aaec4"
      },
      "cell_type": "code",
      "source": [
        "from sklearn.externals import joblib\n",
        "joblib.dump(clf, 'clf.joblib')"
      ],
      "execution_count": 60,
      "outputs": [
        {
          "output_type": "execute_result",
          "data": {
            "text/plain": [
              "['clf.joblib']"
            ]
          },
          "metadata": {
            "tags": []
          },
          "execution_count": 60
        }
      ]
    },
    {
      "metadata": {
        "id": "IjiJzo8gerwg",
        "colab_type": "code",
        "colab": {}
      },
      "cell_type": "code",
      "source": [
        "class FeatureGeneration(object):\n",
        "  def __init__(self):\n",
        "    self.N = None\n",
        "    self.p_y = None\n",
        "    self.document_frequencies = dict()\n",
        "    self.term_index = dict()\n",
        "    self.token_counts = dict()\n",
        "    self.token_disasters = dict()\n",
        "    \n",
        "  def fit(self, data):\n",
        "    \"\"\"\n",
        "    Takes a pandas data frame and fits a corpus\n",
        "    \"\"\"\n",
        "    tokenizer = TweetTokenizer()\n",
        "    token_count = 0\n",
        "    index = 0\n",
        "    for index, row in data.iterrows():\n",
        "        tokens = tokenizer.tokenize(row['text'])\n",
        "        target = row['target']\n",
        "        document_terms = set()\n",
        "        for token in tokens:\n",
        "            if token.lower() in self.token_counts:\n",
        "                self.token_counts[token.lower()] += 1\n",
        "                if not(token.lower() in document_terms):\n",
        "                  self.document_frequencies[token.lower()] += 1\n",
        "                  document_terms.add(token.lower())\n",
        "            else:\n",
        "                self.token_counts[token.lower()] = 1\n",
        "                self.document_frequencies[token.lower()] = 1\n",
        "                document_terms.add(token.lower())\n",
        "            if token.lower() in self.token_disasters:\n",
        "                self.token_disasters[token.lower()] += target\n",
        "            else:\n",
        "                self.token_disasters[token.lower()] = target\n",
        "            token_count += 1\n",
        "    self.N = len(data)\n",
        "    self.p_y = np.sum(data['target'])/self.N\n",
        "  \n",
        "  def transform(self, x):\n",
        "    \"\"\"\n",
        "    Transform text into input features\n",
        "    \"\"\"\n",
        "    min_pmi = np.log2(1e-10)  # Because np.log2(0) == -inf\n",
        "    neutral_pmi = np.log2(0.5)\n",
        "    x_features = np.zeros((x.shape[0], 7))\n",
        "    x_features[:, :] = neutral_pmi\n",
        "    row_index = 0\n",
        "    tokenizer = TweetTokenizer()\n",
        "    for row in x:\n",
        "        #print(row)\n",
        "        dedented_text = textwrap.dedent(row).strip()\n",
        "        #print(dedented_text)\n",
        "    #     for width in [ 80]:\n",
        "    #         #print ('%d Columns:\\n' % width)\n",
        "    #         print ('Twitter message:', '\\\"%s\\\"' % textwrap.fill(dedented_text, width=width))\n",
        "\n",
        "        tokens = tokenizer.tokenize(row)\n",
        "        disaster_probabilities = list()\n",
        "        disaster_probabilities_round = list()\n",
        "        pmi_values = list()\n",
        "        for token in tokens:\n",
        "            p_x = self.document_frequencies[token.lower()]/self.N\n",
        "            p_x_y = self.token_disasters[token.lower()]/self.N\n",
        "            if p_x_y == 0:\n",
        "              pmi = min_pmi\n",
        "            else:\n",
        "              pmi = np.log2(p_x_y/(p_x * p_y))\n",
        "            pmi_values.append(pmi)\n",
        "            disaster_probabilities.append(p_x_y)\n",
        "            disaster_probabilities_round.append(round(p_x_y, 2))\n",
        "    #     print(x_train_features[row_index, 0:3])\n",
        "        x_features[row_index, 0:min(3, len(pmi_values))] = np.array(sorted(pmi_values, reverse=True)[0:min(3, len(pmi_values))])\n",
        "        x_features[row_index, 3:(3 + min(3, len(pmi_values)))] = np.array(sorted(pmi_values)[0:min(3, len(pmi_values))])\n",
        "        x_features[row_index, 6] = np.mean(pmi_values)\n",
        "\n",
        "\n",
        "    #     print('\\n','\\n', 'Disaster Text Probabilities')\n",
        "    #     print( disaster_probabilities_round)\n",
        "    #     print(x_train_features[row_index])\n",
        "        row_index += 1\n",
        "    return x_features"
      ],
      "execution_count": 0,
      "outputs": []
    },
    {
      "metadata": {
        "id": "fIMl8PSqhfCr",
        "colab_type": "code",
        "colab": {
          "base_uri": "https://localhost:8080/",
          "height": 34
        },
        "outputId": "1328bea6-5629-4b43-a496-6967a0288ae9"
      },
      "cell_type": "code",
      "source": [
        "feature_generator = FeatureGeneration()\n",
        "feature_generator.fit(data)\n",
        "joblib.dump(feature_generator, 'feature_generator.joblib')"
      ],
      "execution_count": 70,
      "outputs": [
        {
          "output_type": "execute_result",
          "data": {
            "text/plain": [
              "['feature_generator.joblib']"
            ]
          },
          "metadata": {
            "tags": []
          },
          "execution_count": 70
        }
      ]
    },
    {
      "metadata": {
        "id": "nXC0HM69ikKT",
        "colab_type": "code",
        "colab": {
          "base_uri": "https://localhost:8080/",
          "height": 34
        },
        "outputId": "85d50120-8df3-4db3-b993-ab93f294e162"
      },
      "cell_type": "code",
      "source": [
        "x_train_features = feature_generator.transform(X_train)\n",
        "\n",
        "clf = SVC(gamma='auto', probability=True)\n",
        "clf.fit(x_train_features, y_train)\n",
        "clf.score(x_train_features, y_train)"
      ],
      "execution_count": 76,
      "outputs": [
        {
          "output_type": "execute_result",
          "data": {
            "text/plain": [
              "0.9919540229885058"
            ]
          },
          "metadata": {
            "tags": []
          },
          "execution_count": 76
        }
      ]
    }
  ]
}