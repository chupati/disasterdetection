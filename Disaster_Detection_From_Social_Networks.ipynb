{
  "nbformat": 4,
  "nbformat_minor": 0,
  "metadata": {
    "colab": {
      "name": "Disaster Detection From Social Networks",
      "version": "0.3.2",
      "provenance": [],
      "include_colab_link": true
    },
    "kernelspec": {
      "name": "python3",
      "display_name": "Python 3"
    }
  },
  "cells": [
    {
      "cell_type": "markdown",
      "metadata": {
        "id": "view-in-github",
        "colab_type": "text"
      },
      "source": [
        "<a href=\"https://colab.research.google.com/github/chupati/disasterdetection/blob/master/Disaster_Detection_From_Social_Networks.ipynb\" target=\"_parent\"><img src=\"https://colab.research.google.com/assets/colab-badge.svg\" alt=\"Open In Colab\"/></a>"
      ]
    },
    {
      "metadata": {
        "id": "TA_UEknozPQp",
        "colab_type": "text"
      },
      "cell_type": "markdown",
      "source": [
        "## Detecting disaster events from twitter\n",
        "\n",
        "This program uses Natural Laguage Processing (NLP) and Machine Learning to train two classification algorithms, Random Forest and SVM.  Upon completing training, the two algorithms will be able to predict if a twitter post is a disaster related event. "
      ]
    },
    {
      "metadata": {
        "id": "c55CmfzcygvR",
        "colab_type": "text"
      },
      "cell_type": "markdown",
      "source": [
        "**Import Libraries**"
      ]
    },
    {
      "metadata": {
        "id": "W9TW-x4aqC3s",
        "colab_type": "code",
        "colab": {}
      },
      "cell_type": "code",
      "source": [
        "import pandas as pd\n",
        "from nltk.tokenize import TweetTokenizer\n",
        "from sklearn.model_selection import train_test_split\n",
        "from google.colab import files\n",
        "import textwrap\n",
        "import numpy as np"
      ],
      "execution_count": 0,
      "outputs": []
    },
    {
      "metadata": {
        "id": "9YWDsFNMycPY",
        "colab_type": "text"
      },
      "cell_type": "markdown",
      "source": [
        "**Import Data**\n",
        "\n",
        "Upload Comma Delimited File (.CSV). \n",
        "\n",
        "Download the file from the link to your computer and open back up using the \"Choose Files\" button.\n",
        "\n",
        "[Social Network Disaster Data (CSV)](https://raw.githubusercontent.com/chupati/disasterdetection/master/socialmedia-disaster-tweets-DFE-utf8.csv)\n"
      ]
    },
    {
      "metadata": {
        "id": "yLoM06JQuuBg",
        "colab_type": "code",
        "outputId": "b877c88d-d561-49f7-e03c-ca36322598f5",
        "colab": {
          "resources": {
            "http://localhost:8080/nbextensions/google.colab/files.js": {
              "data": "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",
              "ok": true,
              "headers": [
                [
                  "content-type",
                  "application/javascript"
                ]
              ],
              "status": 200,
              "status_text": ""
            }
          },
          "base_uri": "https://localhost:8080/",
          "height": 92
        }
      },
      "cell_type": "code",
      "source": [
        "\n",
        "\n",
        "uploaded = files.upload()\n",
        "\n",
        "for fn in uploaded.keys():\n",
        "  print('User uploaded file \"{name}\" with length {length} bytes'.format(\n",
        "      name=fn, length=len(uploaded[fn])))"
      ],
      "execution_count": 2,
      "outputs": [
        {
          "output_type": "display_data",
          "data": {
            "text/html": [
              "\n",
              "     <input type=\"file\" id=\"files-e19dfbfd-5985-4d84-9d78-38e2b82daa31\" name=\"files[]\" multiple disabled />\n",
              "     <output id=\"result-e19dfbfd-5985-4d84-9d78-38e2b82daa31\">\n",
              "      Upload widget is only available when the cell has been executed in the\n",
              "      current browser session. Please rerun this cell to enable.\n",
              "      </output>\n",
              "      <script src=\"/nbextensions/google.colab/files.js\"></script> "
            ],
            "text/plain": [
              "<IPython.core.display.HTML object>"
            ]
          },
          "metadata": {
            "tags": []
          }
        },
        {
          "output_type": "stream",
          "text": [
            "Saving socialmedia-disaster-tweets-DFE-utf8.csv to socialmedia-disaster-tweets-DFE-utf8.csv\n",
            "User uploaded file \"socialmedia-disaster-tweets-DFE-utf8.csv\" with length 2213376 bytes\n"
          ],
          "name": "stdout"
        }
      ]
    },
    {
      "metadata": {
        "id": "DYl-SYG361gr",
        "colab_type": "text"
      },
      "cell_type": "markdown",
      "source": [
        "**Data Pre-processing**\n",
        "\n",
        "The following code checks that each line in the CSV file is in a utf8 format. Note that the Pandas library will fail to read non utf8 lines. "
      ]
    },
    {
      "metadata": {
        "id": "wUhIJNU-tWH9",
        "colab_type": "code",
        "outputId": "afff3308-91ea-4b69-b845-16bb851369c8",
        "colab": {
          "base_uri": "https://localhost:8080/",
          "height": 52
        }
      },
      "cell_type": "code",
      "source": [
        "bad_lines = 0\n",
        "total_lines = 0\n",
        "f = open('socialmedia-disaster-tweets-DFE-utf8.csv', encoding='utf-8')\n",
        "for line in f:\n",
        "    try:\n",
        "        line.encode('utf-8')\n",
        "    except UnicodeDecodeError:\n",
        "        bad_lines += 1\n",
        "    total_lines += 1\n",
        "f.close()\n",
        "print(\"Total Lines read:\", total_lines, '\\n', \"Total Non UTF8 lines read:\", bad_lines)  #check for non utf8 formatted twitter messages (bad lines)"
      ],
      "execution_count": 3,
      "outputs": [
        {
          "output_type": "stream",
          "text": [
            "Total Lines read: 12267 \n",
            " Total Non UTF8 lines read: 0\n"
          ],
          "name": "stdout"
        }
      ]
    },
    {
      "metadata": {
        "id": "6Ymv7o5b76Dh",
        "colab_type": "text"
      },
      "cell_type": "markdown",
      "source": [
        "**Data Processing**\n",
        "\n",
        "Using the Pandas library, the following code loads the CSV data into a dataframe and prints out dataframe statistics. A pandas dataframe is a datatypes that holds data in cells and columns. \n",
        "\n",
        "\n",
        "NOTE: The columns listed here are not used as features (direct inputs to the ML model); However, \"choose_one:confidence\" is used to create a new feature for the ML model. "
      ]
    },
    {
      "metadata": {
        "id": "UI3aaT0dxLTL",
        "colab_type": "code",
        "outputId": "16953081-53c2-43aa-c1c8-1dd28da32903",
        "colab": {
          "base_uri": "https://localhost:8080/",
          "height": 297
        }
      },
      "cell_type": "code",
      "source": [
        "data = pd.read_csv('socialmedia-disaster-tweets-DFE-utf8.csv', delimiter=',')\n",
        "data.describe()"
      ],
      "execution_count": 4,
      "outputs": [
        {
          "output_type": "execute_result",
          "data": {
            "text/html": [
              "<div>\n",
              "<style scoped>\n",
              "    .dataframe tbody tr th:only-of-type {\n",
              "        vertical-align: middle;\n",
              "    }\n",
              "\n",
              "    .dataframe tbody tr th {\n",
              "        vertical-align: top;\n",
              "    }\n",
              "\n",
              "    .dataframe thead th {\n",
              "        text-align: right;\n",
              "    }\n",
              "</style>\n",
              "<table border=\"1\" class=\"dataframe\">\n",
              "  <thead>\n",
              "    <tr style=\"text-align: right;\">\n",
              "      <th></th>\n",
              "      <th>_unit_id</th>\n",
              "      <th>_trusted_judgments</th>\n",
              "      <th>choose_one:confidence</th>\n",
              "      <th>tweetid</th>\n",
              "      <th>userid</th>\n",
              "    </tr>\n",
              "  </thead>\n",
              "  <tbody>\n",
              "    <tr>\n",
              "      <th>count</th>\n",
              "      <td>1.087600e+04</td>\n",
              "      <td>10876.000000</td>\n",
              "      <td>10876.000000</td>\n",
              "      <td>1.087600e+04</td>\n",
              "      <td>1.078900e+04</td>\n",
              "    </tr>\n",
              "    <tr>\n",
              "      <th>mean</th>\n",
              "      <td>7.782503e+08</td>\n",
              "      <td>6.022527</td>\n",
              "      <td>0.842037</td>\n",
              "      <td>6.240055e+17</td>\n",
              "      <td>1.231422e+09</td>\n",
              "    </tr>\n",
              "    <tr>\n",
              "      <th>std</th>\n",
              "      <td>3.200574e+03</td>\n",
              "      <td>10.463834</td>\n",
              "      <td>0.168086</td>\n",
              "      <td>5.603918e+16</td>\n",
              "      <td>1.167599e+09</td>\n",
              "    </tr>\n",
              "    <tr>\n",
              "      <th>min</th>\n",
              "      <td>7.782438e+08</td>\n",
              "      <td>3.000000</td>\n",
              "      <td>0.334200</td>\n",
              "      <td>1.000000e+00</td>\n",
              "      <td>3.840000e+03</td>\n",
              "    </tr>\n",
              "    <tr>\n",
              "      <th>25%</th>\n",
              "      <td>7.782475e+08</td>\n",
              "      <td>5.000000</td>\n",
              "      <td>0.714900</td>\n",
              "      <td>6.290590e+17</td>\n",
              "      <td>1.870027e+08</td>\n",
              "    </tr>\n",
              "    <tr>\n",
              "      <th>50%</th>\n",
              "      <td>7.782503e+08</td>\n",
              "      <td>5.000000</td>\n",
              "      <td>0.804900</td>\n",
              "      <td>6.290920e+17</td>\n",
              "      <td>6.342173e+08</td>\n",
              "    </tr>\n",
              "    <tr>\n",
              "      <th>75%</th>\n",
              "      <td>7.782530e+08</td>\n",
              "      <td>5.000000</td>\n",
              "      <td>1.000000</td>\n",
              "      <td>6.292342e+17</td>\n",
              "      <td>2.416228e+09</td>\n",
              "    </tr>\n",
              "    <tr>\n",
              "      <th>max</th>\n",
              "      <td>7.782611e+08</td>\n",
              "      <td>157.000000</td>\n",
              "      <td>1.000000</td>\n",
              "      <td>6.293650e+17</td>\n",
              "      <td>3.404474e+09</td>\n",
              "    </tr>\n",
              "  </tbody>\n",
              "</table>\n",
              "</div>"
            ],
            "text/plain": [
              "           _unit_id  _trusted_judgments  choose_one:confidence       tweetid  \\\n",
              "count  1.087600e+04        10876.000000           10876.000000  1.087600e+04   \n",
              "mean   7.782503e+08            6.022527               0.842037  6.240055e+17   \n",
              "std    3.200574e+03           10.463834               0.168086  5.603918e+16   \n",
              "min    7.782438e+08            3.000000               0.334200  1.000000e+00   \n",
              "25%    7.782475e+08            5.000000               0.714900  6.290590e+17   \n",
              "50%    7.782503e+08            5.000000               0.804900  6.290920e+17   \n",
              "75%    7.782530e+08            5.000000               1.000000  6.292342e+17   \n",
              "max    7.782611e+08          157.000000               1.000000  6.293650e+17   \n",
              "\n",
              "             userid  \n",
              "count  1.078900e+04  \n",
              "mean   1.231422e+09  \n",
              "std    1.167599e+09  \n",
              "min    3.840000e+03  \n",
              "25%    1.870027e+08  \n",
              "50%    6.342173e+08  \n",
              "75%    2.416228e+09  \n",
              "max    3.404474e+09  "
            ]
          },
          "metadata": {
            "tags": []
          },
          "execution_count": 4
        }
      ]
    },
    {
      "metadata": {
        "id": "3GjafNN1-VFj",
        "colab_type": "text"
      },
      "cell_type": "markdown",
      "source": [
        "**Model Setup - Defining Labels for train and test phases**\n",
        "\n",
        "Label = 0    Non-Disaster\n",
        "\n",
        "Label = 1    Disaster\n",
        "\n",
        "The following code adds **target** column to Pandas datagram.  A target is the value we like the ML model to predict.  The target is defined with a 95% threshold confidence. "
      ]
    },
    {
      "metadata": {
        "id": "4fncyI_LxMdM",
        "colab_type": "code",
        "outputId": "d8de3d21-99d5-49e8-f49b-a5567fb7ad4a",
        "colab": {
          "base_uri": "https://localhost:8080/",
          "height": 297
        }
      },
      "cell_type": "code",
      "source": [
        "data['target'] = 0\n",
        "data.loc[(data['choose_one'] == 'Relevant') & (data['choose_one:confidence'] > 0.95), ['target']] = 1\n",
        "data.describe()"
      ],
      "execution_count": 5,
      "outputs": [
        {
          "output_type": "execute_result",
          "data": {
            "text/html": [
              "<div>\n",
              "<style scoped>\n",
              "    .dataframe tbody tr th:only-of-type {\n",
              "        vertical-align: middle;\n",
              "    }\n",
              "\n",
              "    .dataframe tbody tr th {\n",
              "        vertical-align: top;\n",
              "    }\n",
              "\n",
              "    .dataframe thead th {\n",
              "        text-align: right;\n",
              "    }\n",
              "</style>\n",
              "<table border=\"1\" class=\"dataframe\">\n",
              "  <thead>\n",
              "    <tr style=\"text-align: right;\">\n",
              "      <th></th>\n",
              "      <th>_unit_id</th>\n",
              "      <th>_trusted_judgments</th>\n",
              "      <th>choose_one:confidence</th>\n",
              "      <th>tweetid</th>\n",
              "      <th>userid</th>\n",
              "      <th>target</th>\n",
              "    </tr>\n",
              "  </thead>\n",
              "  <tbody>\n",
              "    <tr>\n",
              "      <th>count</th>\n",
              "      <td>1.087600e+04</td>\n",
              "      <td>10876.000000</td>\n",
              "      <td>10876.000000</td>\n",
              "      <td>1.087600e+04</td>\n",
              "      <td>1.078900e+04</td>\n",
              "      <td>10876.000000</td>\n",
              "    </tr>\n",
              "    <tr>\n",
              "      <th>mean</th>\n",
              "      <td>7.782503e+08</td>\n",
              "      <td>6.022527</td>\n",
              "      <td>0.842037</td>\n",
              "      <td>6.240055e+17</td>\n",
              "      <td>1.231422e+09</td>\n",
              "      <td>0.208533</td>\n",
              "    </tr>\n",
              "    <tr>\n",
              "      <th>std</th>\n",
              "      <td>3.200574e+03</td>\n",
              "      <td>10.463834</td>\n",
              "      <td>0.168086</td>\n",
              "      <td>5.603918e+16</td>\n",
              "      <td>1.167599e+09</td>\n",
              "      <td>0.406278</td>\n",
              "    </tr>\n",
              "    <tr>\n",
              "      <th>min</th>\n",
              "      <td>7.782438e+08</td>\n",
              "      <td>3.000000</td>\n",
              "      <td>0.334200</td>\n",
              "      <td>1.000000e+00</td>\n",
              "      <td>3.840000e+03</td>\n",
              "      <td>0.000000</td>\n",
              "    </tr>\n",
              "    <tr>\n",
              "      <th>25%</th>\n",
              "      <td>7.782475e+08</td>\n",
              "      <td>5.000000</td>\n",
              "      <td>0.714900</td>\n",
              "      <td>6.290590e+17</td>\n",
              "      <td>1.870027e+08</td>\n",
              "      <td>0.000000</td>\n",
              "    </tr>\n",
              "    <tr>\n",
              "      <th>50%</th>\n",
              "      <td>7.782503e+08</td>\n",
              "      <td>5.000000</td>\n",
              "      <td>0.804900</td>\n",
              "      <td>6.290920e+17</td>\n",
              "      <td>6.342173e+08</td>\n",
              "      <td>0.000000</td>\n",
              "    </tr>\n",
              "    <tr>\n",
              "      <th>75%</th>\n",
              "      <td>7.782530e+08</td>\n",
              "      <td>5.000000</td>\n",
              "      <td>1.000000</td>\n",
              "      <td>6.292342e+17</td>\n",
              "      <td>2.416228e+09</td>\n",
              "      <td>0.000000</td>\n",
              "    </tr>\n",
              "    <tr>\n",
              "      <th>max</th>\n",
              "      <td>7.782611e+08</td>\n",
              "      <td>157.000000</td>\n",
              "      <td>1.000000</td>\n",
              "      <td>6.293650e+17</td>\n",
              "      <td>3.404474e+09</td>\n",
              "      <td>1.000000</td>\n",
              "    </tr>\n",
              "  </tbody>\n",
              "</table>\n",
              "</div>"
            ],
            "text/plain": [
              "           _unit_id  _trusted_judgments  choose_one:confidence       tweetid  \\\n",
              "count  1.087600e+04        10876.000000           10876.000000  1.087600e+04   \n",
              "mean   7.782503e+08            6.022527               0.842037  6.240055e+17   \n",
              "std    3.200574e+03           10.463834               0.168086  5.603918e+16   \n",
              "min    7.782438e+08            3.000000               0.334200  1.000000e+00   \n",
              "25%    7.782475e+08            5.000000               0.714900  6.290590e+17   \n",
              "50%    7.782503e+08            5.000000               0.804900  6.290920e+17   \n",
              "75%    7.782530e+08            5.000000               1.000000  6.292342e+17   \n",
              "max    7.782611e+08          157.000000               1.000000  6.293650e+17   \n",
              "\n",
              "             userid        target  \n",
              "count  1.078900e+04  10876.000000  \n",
              "mean   1.231422e+09      0.208533  \n",
              "std    1.167599e+09      0.406278  \n",
              "min    3.840000e+03      0.000000  \n",
              "25%    1.870027e+08      0.000000  \n",
              "50%    6.342173e+08      0.000000  \n",
              "75%    2.416228e+09      0.000000  \n",
              "max    3.404474e+09      1.000000  "
            ]
          },
          "metadata": {
            "tags": []
          },
          "execution_count": 5
        }
      ]
    },
    {
      "metadata": {
        "id": "gloA6lmXB8VI",
        "colab_type": "text"
      },
      "cell_type": "markdown",
      "source": [
        "**Data Exploration**\n",
        "\n",
        "Get a count of the tweets labeled as disasters in the data.  Notice that the low count suggest tha disaster labeled tweets are a minority class. "
      ]
    },
    {
      "metadata": {
        "id": "ouXQIDh7xUT_",
        "colab_type": "code",
        "outputId": "e946de45-76bb-4de3-d4ee-bf1018023fff",
        "colab": {
          "base_uri": "https://localhost:8080/",
          "height": 34
        }
      },
      "cell_type": "code",
      "source": [
        "disastercount = data['target'].sum() \n",
        "print(disastercount, ' out of ', data.shape[0] )"
      ],
      "execution_count": 6,
      "outputs": [
        {
          "output_type": "stream",
          "text": [
            "2268  out of  10876\n"
          ],
          "name": "stdout"
        }
      ]
    },
    {
      "metadata": {
        "id": "esN9KWxJDL57",
        "colab_type": "text"
      },
      "cell_type": "markdown",
      "source": [
        "**Sample Twitter messages** (TODO: NEED TO UPDATE CODE)\n",
        "\n",
        "The following code prints sample tweets that are labeled as disasters or not labeled at all (to be considered non-disasters). \n"
      ]
    },
    {
      "metadata": {
        "id": "vdv_pnT7xYEb",
        "colab_type": "code",
        "outputId": "4efeb9fa-37f9-4249-d3e6-4713fc6b6276",
        "colab": {
          "base_uri": "https://localhost:8080/",
          "height": 34
        }
      },
      "cell_type": "code",
      "source": [
        "y = data['target']  #Labels\n",
        "x = data['text']    \n",
        "for line in x:\n",
        "    print(line)\n",
        "    break"
      ],
      "execution_count": 7,
      "outputs": [
        {
          "output_type": "stream",
          "text": [
            "Just happened a terrible car crash\n"
          ],
          "name": "stdout"
        }
      ]
    },
    {
      "metadata": {
        "id": "XJAwyJTQEKmN",
        "colab_type": "text"
      },
      "cell_type": "markdown",
      "source": [
        "**Tokenizing (Breaking up twitter messages into words)**\n",
        "\n",
        "The Tweet Tokenizer libray is used here to create list of tokens (i.e. hastags, words, or mentions). \n"
      ]
    },
    {
      "metadata": {
        "id": "6v566BKBxjD3",
        "colab_type": "code",
        "outputId": "f199059e-3c96-4c16-b5b1-275103306272",
        "colab": {
          "base_uri": "https://localhost:8080/",
          "height": 34
        }
      },
      "cell_type": "code",
      "source": [
        "document_frequencies = dict()\n",
        "term_index = dict()\n",
        "token_counts = dict()\n",
        "token_disasters = dict()\n",
        "tokenizer = TweetTokenizer()\n",
        "token_count = 0\n",
        "index = 0\n",
        "for index, row in data.iterrows():\n",
        "    tokens = tokenizer.tokenize(row['text'])\n",
        "    target = row['target']\n",
        "    document_terms = set()\n",
        "    for token in tokens:\n",
        "        if token.lower() in token_counts:\n",
        "            token_counts[token.lower()] += 1\n",
        "            if not(token.lower() in document_terms):\n",
        "              document_frequencies[token.lower()] += 1\n",
        "              document_terms.add(token.lower())\n",
        "        else:\n",
        "            token_counts[token.lower()] = 1\n",
        "            document_frequencies[token.lower()] = 1\n",
        "            document_terms.add(token.lower())\n",
        "        if token.lower() in token_disasters:\n",
        "            token_disasters[token.lower()] += target\n",
        "        else:\n",
        "            token_disasters[token.lower()] = target\n",
        "        token_count += 1\n",
        "\n",
        "print('Token Count: ', token_count)"
      ],
      "execution_count": 9,
      "outputs": [
        {
          "output_type": "stream",
          "text": [
            "Token Count:  183921\n"
          ],
          "name": "stdout"
        }
      ]
    },
    {
      "metadata": {
        "id": "wL9xPqZ-FUuR",
        "colab_type": "text"
      },
      "cell_type": "markdown",
      "source": [
        "**Splitting the dataset **\n",
        "\n",
        "The following code splits the dataset into an 80/20 split. 80% of the data is used for training and 20% is used for testing. "
      ]
    },
    {
      "metadata": {
        "id": "orhiz1BFx24v",
        "colab_type": "code",
        "outputId": "8cd65151-85a9-43b4-e3df-c02d7a3c7806",
        "colab": {
          "base_uri": "https://localhost:8080/",
          "height": 139
        }
      },
      "cell_type": "code",
      "source": [
        "X_train, X_test, y_train, y_test = train_test_split(x, y, test_size=0.2, random_state=42)\n",
        "\n",
        "print('Text Observations (X) and Disaster Labels (y) for TRAIN set')\n",
        "print('X_train: ', X_train.shape)\n",
        "print('y_train', y_train.shape, '\\n')\n",
        "\n",
        "print('Text Observations (X) and Disaster Labels (y) for TEST set')\n",
        "print('X_test:', X_test.shape)\n",
        "print('y_test', y_test.shape)"
      ],
      "execution_count": 10,
      "outputs": [
        {
          "output_type": "stream",
          "text": [
            "Text Observations (X) and Disaster Labels (y) for TRAIN set\n",
            "X_train:  (8700,)\n",
            "y_train (8700,) \n",
            "\n",
            "Text Observations (X) and Disaster Labels (y) for TEST set\n",
            "X_test: (2176,)\n",
            "y_test (2176,)\n"
          ],
          "name": "stdout"
        }
      ]
    },
    {
      "metadata": {
        "id": "MmypUTqSFzGL",
        "colab_type": "text"
      },
      "cell_type": "markdown",
      "source": [
        "**Generate Document Frequencies**\n",
        "\n",
        "A document is an NLP term for one unit of text. In our case, one tweet is represented as one document."
      ]
    },
    {
      "metadata": {
        "id": "AiRZB_4ux35y",
        "colab_type": "code",
        "outputId": "fd3cba4a-c861-420b-d82b-fab441d9c477",
        "colab": {
          "base_uri": "https://localhost:8080/",
          "height": 177
        }
      },
      "cell_type": "code",
      "source": [
        "token_counts = dict()\n",
        "x_train_disaster_probabilities = list()\n",
        "N = x.shape[0]\n",
        "print('N: ', N)\n",
        "p_y = np.sum(y)/N\n",
        "print('p(y) =', p_y)\n",
        "min_pmi = np.log2(1e-10)  # Because np.log2(0) == -inf\n",
        "x_train_features = np.zeros((X_train.shape[0], 7))\n",
        "for row in X_train:\n",
        "    #print(row)\n",
        "    dedented_text = textwrap.dedent(row).strip()\n",
        "    #print(dedented_text)\n",
        "    for width in [ 80]:\n",
        "        #print ('%d Columns:\\n' % width)\n",
        "        print ('Twitter message:', '\\\"%s\\\"' % textwrap.fill(dedented_text, width=width))\n",
        "\n",
        "    tokens = tokenizer.tokenize(row)\n",
        "    disaster_probabilities = list()\n",
        "    disaster_probabilities_round = list()\n",
        "    pmi_values = list()\n",
        "    for token in tokens:\n",
        "        p_x = document_frequencies[token.lower()]/N\n",
        "        p_x_y = token_disasters[token.lower()]/N\n",
        "        if p_x_y == 0:\n",
        "          pmi = min_pmi\n",
        "        else:\n",
        "          pmi = np.log2(p_x_y/(p_x * p_y))\n",
        "        disaster_probabilities.append(pmi)\n",
        "        disaster_probabilities_round.append(round(pmi, 2))\n",
        "    \n",
        "    print('\\n','\\n', 'Disaster Text Probabilities')\n",
        "    print( disaster_probabilities_round)\n",
        "    break\n",
        "    "
      ],
      "execution_count": 19,
      "outputs": [
        {
          "output_type": "stream",
          "text": [
            "N:  10876\n",
            "p(y) = 0.20853254873115115\n",
            "Twitter message: \"i dont even remember slsp happening i just remember being like wtf and then the\n",
            "lights turned off and everyone screamed for the encore\"\n",
            "\n",
            " \n",
            " Disaster Text Probabilities\n",
            "[-1.86, -1.2, -1.05, -0.1, -33.22, -1.91, -1.86, -1.93, -0.1, -0.35, -1.79, -1.74, -0.44, -1.18, 0.21, -33.22, -1.74, -0.24, -0.44, -0.68, -33.22, 0.16, 0.21, -33.22]\n"
          ],
          "name": "stdout"
        }
      ]
    },
    {
      "metadata": {
        "id": "dk7lnWGZOkI_",
        "colab_type": "code",
        "colab": {}
      },
      "cell_type": "code",
      "source": [
        ""
      ],
      "execution_count": 0,
      "outputs": []
    }
  ]
}